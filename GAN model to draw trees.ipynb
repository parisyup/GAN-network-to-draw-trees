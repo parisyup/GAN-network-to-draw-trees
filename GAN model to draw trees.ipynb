{
 "cells": [
  {
   "cell_type": "markdown",
   "metadata": {
    "id": "wW0CSwVj6xhq"
   },
   "source": [
    "The ability of DCGANs to learn hierarchical representations of the input, which enables them to produce extremely detailed pictures, is one of its main advantages and the reason I picked it. In order to stabilise the training process and lessen mode collapse, it employs a batch normalisation in both the generator and discriminator. Instead of pooling, I utilised layers that convolute with strides to lower the image's resolution since it gives the network more freedom to develop its own pooling technique. "
   ]
  },
  {
   "cell_type": "code",
   "execution_count": 155,
   "metadata": {
    "id": "UKvBqaLbAF49"
   },
   "outputs": [],
   "source": [
    "import numpy as np\n",
    "import matplotlib.pyplot as plt\n",
    "import matplotlib.animation as animation\n",
    "from IPython.display import HTML\n",
    "import torch\n",
    "import torch.nn as nn\n",
    "import torch.nn.parallel\n",
    "import torchvision.utils as vutils\n",
    "import torch.optim as optim\n",
    "from torch.utils.data import DataLoader\n",
    "from torchvision.datasets import ImageFolder\n",
    "import torchvision.transforms as transforms"
   ]
  },
  {
   "cell_type": "code",
   "execution_count": 156,
   "metadata": {
    "id": "UF2vuostAUHN"
   },
   "outputs": [],
   "source": [
    "path = \"symbols_dataset\" #or the path to the folder with the same data set for question 3 without class 0\n",
    "transforms = transforms.Compose([transforms.Grayscale(num_output_channels=1),\n",
    "                               transforms.Resize(64), transforms.CenterCrop(64),\n",
    "                               transforms.ToTensor()])\n",
    "dataset = ImageFolder(root=path, transform=transforms)\n",
    "dloader = DataLoader(dataset, batch_size=128, shuffle=True, num_workers=2)\n",
    "device = torch.device(\"cuda\" if torch.cuda.is_available() else \"cpu\")"
   ]
  },
  {
   "cell_type": "code",
   "execution_count": 157,
   "metadata": {
    "id": "-Id3HGh9AVWJ"
   },
   "outputs": [],
   "source": [
    "def weights_init(m):\n",
    "    classname = m.__class__.__name__\n",
    "    if classname.find('Conv') != -1:\n",
    "        nn.init.normal_(m.weight.data, 0.0, 0.02)\n",
    "    elif classname.find('BatchNorm') != -1:\n",
    "        nn.init.normal_(m.weight.data, 1.0, 0.02)\n",
    "        nn.init.constant_(m.bias.data, 0)"
   ]
  },
  {
   "cell_type": "markdown",
   "metadata": {
    "id": "l71i7rG758ZB"
   },
   "source": [
    "The weights init function initialises the weights randomly from a normal distribution with a mean of 0 and a standard deviation of 0.02, as suggested by the authors of the DCGAN paper."
   ]
  },
  {
   "cell_type": "code",
   "execution_count": 158,
   "metadata": {
    "id": "McW3JdtxAWg4"
   },
   "outputs": [],
   "source": [
    "class Generator(nn.Module):\n",
    "    def __init__(self):\n",
    "        super(Generator, self).__init__()\n",
    "        self.main = nn.Sequential(\n",
    "            nn.ConvTranspose2d(110, 512, 4, 1, 0, bias=False), \n",
    "            nn.BatchNorm2d(512),\n",
    "            nn.ReLU(True),\n",
    "            nn.ConvTranspose2d( 512, 256, 4, 2, 1, bias=False),\n",
    "            nn.BatchNorm2d(256),\n",
    "            nn.ReLU(True),\n",
    "            nn.ConvTranspose2d( 256, 128, 4, 2, 1, bias=False),\n",
    "            nn.BatchNorm2d(128),\n",
    "            nn.ReLU(True),           \n",
    "            nn.ConvTranspose2d( 128, 64, 4, 2, 1, bias=False),\n",
    "            nn.BatchNorm2d(64),\n",
    "            nn.ReLU(True),\n",
    "            nn.ConvTranspose2d( 64, 1, 4, 2, 1, bias=False),\n",
    "            nn.Tanh()  )\n",
    "\n",
    "    def forward(self, ip):\n",
    "        return self.main(ip)"
   ]
  },
  {
   "cell_type": "code",
   "execution_count": 159,
   "metadata": {
    "colab": {
     "base_uri": "https://localhost:8080/"
    },
    "id": "siHrNsnpAXwy",
    "outputId": "356b55da-f8b8-4403-ec8b-3463c04c6c07"
   },
   "outputs": [
    {
     "data": {
      "text/plain": [
       "Generator(\n",
       "  (main): Sequential(\n",
       "    (0): ConvTranspose2d(110, 512, kernel_size=(4, 4), stride=(1, 1), bias=False)\n",
       "    (1): BatchNorm2d(512, eps=1e-05, momentum=0.1, affine=True, track_running_stats=True)\n",
       "    (2): ReLU(inplace=True)\n",
       "    (3): ConvTranspose2d(512, 256, kernel_size=(4, 4), stride=(2, 2), padding=(1, 1), bias=False)\n",
       "    (4): BatchNorm2d(256, eps=1e-05, momentum=0.1, affine=True, track_running_stats=True)\n",
       "    (5): ReLU(inplace=True)\n",
       "    (6): ConvTranspose2d(256, 128, kernel_size=(4, 4), stride=(2, 2), padding=(1, 1), bias=False)\n",
       "    (7): BatchNorm2d(128, eps=1e-05, momentum=0.1, affine=True, track_running_stats=True)\n",
       "    (8): ReLU(inplace=True)\n",
       "    (9): ConvTranspose2d(128, 64, kernel_size=(4, 4), stride=(2, 2), padding=(1, 1), bias=False)\n",
       "    (10): BatchNorm2d(64, eps=1e-05, momentum=0.1, affine=True, track_running_stats=True)\n",
       "    (11): ReLU(inplace=True)\n",
       "    (12): ConvTranspose2d(64, 1, kernel_size=(4, 4), stride=(2, 2), padding=(1, 1), bias=False)\n",
       "    (13): Tanh()\n",
       "  )\n",
       ")"
      ]
     },
     "execution_count": 159,
     "metadata": {},
     "output_type": "execute_result"
    }
   ],
   "source": [
    "netG = Generator().to(device)\n",
    "netG.apply(weights_init)"
   ]
  },
  {
   "cell_type": "code",
   "execution_count": 160,
   "metadata": {
    "id": "sPSj7Hf0AYxU"
   },
   "outputs": [],
   "source": [
    "class Discriminator(nn.Module):\n",
    "    def __init__(self):\n",
    "        super(Discriminator, self).__init__()\n",
    "        self.main = nn.Sequential( \n",
    "            nn.Conv2d(1, 64, 4, 2, 1, bias=False), \n",
    "            nn.LeakyReLU(0.2, inplace=True),\n",
    "            nn.Conv2d(64, 128, 4, 2, 1, bias=False),  \n",
    "            nn.BatchNorm2d(128),\n",
    "            nn.LeakyReLU(0.2, inplace=True),\n",
    "            nn.Conv2d(128, 256, 4, 2, 1, bias=False),   \n",
    "            nn.BatchNorm2d(256),\n",
    "            nn.LeakyReLU(0.2, inplace=True),\n",
    "            nn.Conv2d(256, 512, 4, 2, 1, bias=False),   \n",
    "            nn.BatchNorm2d(512),\n",
    "            nn.LeakyReLU(0.2, inplace=True),\n",
    "            nn.Conv2d(512, 1, 4, 1, 0, bias=False),  \n",
    "            nn.Sigmoid() )\n",
    "\n",
    "    def forward(self, input):\n",
    "        return self.main(input)"
   ]
  },
  {
   "cell_type": "code",
   "execution_count": 161,
   "metadata": {
    "colab": {
     "base_uri": "https://localhost:8080/"
    },
    "id": "CmE2w7xTAbJ0",
    "outputId": "4c64117e-c79f-4499-934a-7b0234f67cc7"
   },
   "outputs": [
    {
     "data": {
      "text/plain": [
       "Discriminator(\n",
       "  (main): Sequential(\n",
       "    (0): Conv2d(1, 64, kernel_size=(4, 4), stride=(2, 2), padding=(1, 1), bias=False)\n",
       "    (1): LeakyReLU(negative_slope=0.2, inplace=True)\n",
       "    (2): Conv2d(64, 128, kernel_size=(4, 4), stride=(2, 2), padding=(1, 1), bias=False)\n",
       "    (3): BatchNorm2d(128, eps=1e-05, momentum=0.1, affine=True, track_running_stats=True)\n",
       "    (4): LeakyReLU(negative_slope=0.2, inplace=True)\n",
       "    (5): Conv2d(128, 256, kernel_size=(4, 4), stride=(2, 2), padding=(1, 1), bias=False)\n",
       "    (6): BatchNorm2d(256, eps=1e-05, momentum=0.1, affine=True, track_running_stats=True)\n",
       "    (7): LeakyReLU(negative_slope=0.2, inplace=True)\n",
       "    (8): Conv2d(256, 512, kernel_size=(4, 4), stride=(2, 2), padding=(1, 1), bias=False)\n",
       "    (9): BatchNorm2d(512, eps=1e-05, momentum=0.1, affine=True, track_running_stats=True)\n",
       "    (10): LeakyReLU(negative_slope=0.2, inplace=True)\n",
       "    (11): Conv2d(512, 1, kernel_size=(4, 4), stride=(1, 1), bias=False)\n",
       "    (12): Sigmoid()\n",
       "  )\n",
       ")"
      ]
     },
     "execution_count": 161,
     "metadata": {},
     "output_type": "execute_result"
    }
   ],
   "source": [
    "netD = Discriminator().to(device)\n",
    "netD.apply(weights_init)"
   ]
  },
  {
   "cell_type": "code",
   "execution_count": 162,
   "metadata": {
    "id": "bbBEXFqJuwnY"
   },
   "outputs": [],
   "source": [
    "loss_func = nn.BCELoss()\n",
    "flabel = 0.\n",
    "rlabel = 1.\n",
    "e = 7\n",
    "b1 = 0.5\n",
    "b2 = 0.999\n",
    "optimizerD = optim.Adam(netD.parameters(), lr=0.0002, betas=(b1, b2))\n",
    "optimizerG = optim.Adam(netG.parameters(), lr=0.0002, betas=(b1, b2))"
   ]
  },
  {
   "cell_type": "markdown",
   "metadata": {
    "id": "rnPhsqDs6aqm"
   },
   "source": [
    "I decided to utilise ADAM as the optimizer for both the generator and discriminator because ADAM produced far superior results than other optimizers. I kept the number of feature mappings in both the generator and discriminator layers modest since they are not very complicated."
   ]
  },
  {
   "cell_type": "code",
   "execution_count": 163,
   "metadata": {
    "colab": {
     "base_uri": "https://localhost:8080/"
    },
    "id": "qGe0QntGAceQ",
    "outputId": "85b2b426-5eeb-43ab-c660-6f9de2cd3490"
   },
   "outputs": [
    {
     "name": "stdout",
     "output_type": "stream",
     "text": [
      "[1/7][0/85]\tLoss_D: 1.8308\tLoss_G: 2.3254\tD(x): 0.3195\tD(G(z)): 0.3344 / 0.1321\n",
      "[1/7][17/85]\tLoss_D: 0.2141\tLoss_G: 12.6822\tD(x): 0.9770\tD(G(z)): 0.1600 / 0.0000\n",
      "[1/7][34/85]\tLoss_D: 0.0194\tLoss_G: 32.3665\tD(x): 0.9888\tD(G(z)): 0.0000 / 0.0000\n",
      "[1/7][51/85]\tLoss_D: 0.1443\tLoss_G: 9.4201\tD(x): 0.9421\tD(G(z)): 0.0199 / 0.0002\n",
      "[1/7][68/85]\tLoss_D: 0.5238\tLoss_G: 16.8133\tD(x): 0.8816\tD(G(z)): 0.0007 / 0.0000\n",
      "[2/7][0/85]\tLoss_D: 0.4532\tLoss_G: 5.6790\tD(x): 0.7901\tD(G(z)): 0.0010 / 0.0155\n",
      "[2/7][17/85]\tLoss_D: 0.9242\tLoss_G: 2.7615\tD(x): 0.6231\tD(G(z)): 0.0097 / 0.1268\n",
      "[2/7][34/85]\tLoss_D: 0.2216\tLoss_G: 7.5692\tD(x): 0.9463\tD(G(z)): 0.0993 / 0.0038\n",
      "[2/7][51/85]\tLoss_D: 0.9099\tLoss_G: 15.8182\tD(x): 0.9502\tD(G(z)): 0.4438 / 0.0000\n",
      "[2/7][68/85]\tLoss_D: 0.4766\tLoss_G: 5.4261\tD(x): 0.7891\tD(G(z)): 0.0086 / 0.0167\n",
      "[3/7][0/85]\tLoss_D: 0.2550\tLoss_G: 7.5478\tD(x): 0.8894\tD(G(z)): 0.0285 / 0.0036\n",
      "[3/7][17/85]\tLoss_D: 0.4936\tLoss_G: 6.4490\tD(x): 0.8762\tD(G(z)): 0.2010 / 0.0072\n",
      "[3/7][34/85]\tLoss_D: 0.3348\tLoss_G: 3.2996\tD(x): 0.8344\tD(G(z)): 0.0846 / 0.0701\n",
      "[3/7][51/85]\tLoss_D: 0.4164\tLoss_G: 5.7163\tD(x): 0.9330\tD(G(z)): 0.2353 / 0.0098\n",
      "[3/7][68/85]\tLoss_D: 0.2270\tLoss_G: 4.8549\tD(x): 0.9308\tD(G(z)): 0.1197 / 0.0144\n",
      "[4/7][0/85]\tLoss_D: 0.5809\tLoss_G: 5.2788\tD(x): 0.8847\tD(G(z)): 0.2584 / 0.0109\n",
      "[4/7][17/85]\tLoss_D: 0.1577\tLoss_G: 4.0356\tD(x): 0.9229\tD(G(z)): 0.0634 / 0.0295\n",
      "[4/7][34/85]\tLoss_D: 2.0137\tLoss_G: 0.0721\tD(x): 0.2529\tD(G(z)): 0.0001 / 0.9351\n",
      "[4/7][51/85]\tLoss_D: 0.2682\tLoss_G: 4.1308\tD(x): 0.8993\tD(G(z)): 0.1204 / 0.0283\n",
      "[4/7][68/85]\tLoss_D: 0.4367\tLoss_G: 6.4806\tD(x): 0.9877\tD(G(z)): 0.2715 / 0.0048\n",
      "[5/7][0/85]\tLoss_D: 0.3224\tLoss_G: 2.8097\tD(x): 0.7968\tD(G(z)): 0.0203 / 0.1020\n",
      "[5/7][17/85]\tLoss_D: 0.3085\tLoss_G: 4.2346\tD(x): 0.8041\tD(G(z)): 0.0289 / 0.0250\n",
      "[5/7][34/85]\tLoss_D: 0.2064\tLoss_G: 3.8600\tD(x): 0.9291\tD(G(z)): 0.1105 / 0.0328\n",
      "[5/7][51/85]\tLoss_D: 0.1543\tLoss_G: 4.4885\tD(x): 0.9122\tD(G(z)): 0.0414 / 0.0203\n",
      "[5/7][68/85]\tLoss_D: 0.3081\tLoss_G: 2.0984\tD(x): 0.8122\tD(G(z)): 0.0481 / 0.1747\n",
      "[6/7][0/85]\tLoss_D: 0.2693\tLoss_G: 3.0473\tD(x): 0.8317\tD(G(z)): 0.0511 / 0.0685\n",
      "[6/7][17/85]\tLoss_D: 0.3882\tLoss_G: 6.8403\tD(x): 0.9764\tD(G(z)): 0.2686 / 0.0023\n",
      "[6/7][34/85]\tLoss_D: 0.2483\tLoss_G: 3.5456\tD(x): 0.8983\tD(G(z)): 0.1062 / 0.0425\n",
      "[6/7][51/85]\tLoss_D: 0.1379\tLoss_G: 6.3543\tD(x): 0.9439\tD(G(z)): 0.0634 / 0.0048\n",
      "[6/7][68/85]\tLoss_D: 0.2713\tLoss_G: 4.1553\tD(x): 0.9222\tD(G(z)): 0.1522 / 0.0253\n",
      "[7/7][0/85]\tLoss_D: 0.3603\tLoss_G: 1.8096\tD(x): 0.7661\tD(G(z)): 0.0357 / 0.2266\n",
      "[7/7][17/85]\tLoss_D: 0.3528\tLoss_G: 3.4114\tD(x): 0.7780\tD(G(z)): 0.0297 / 0.0535\n",
      "[7/7][34/85]\tLoss_D: 0.7072\tLoss_G: 1.2885\tD(x): 0.6344\tD(G(z)): 0.0208 / 0.3402\n",
      "[7/7][51/85]\tLoss_D: 0.2874\tLoss_G: 4.2012\tD(x): 0.9536\tD(G(z)): 0.1840 / 0.0249\n",
      "[7/7][68/85]\tLoss_D: 0.2085\tLoss_G: 3.8432\tD(x): 0.9070\tD(G(z)): 0.0880 / 0.0316\n"
     ]
    }
   ],
   "source": [
    "for epoch in range(e):\n",
    "    for i, d in enumerate(dloader, 0):\n",
    "\n",
    "        netD.zero_grad()\n",
    "        rdata = d[0].to(device)\n",
    "        s = rdata.size(0)\n",
    "        lbl = torch.full((s,), rlabel, dtype=torch.float, device=device)\n",
    "        op1 = netD(rdata).view(-1)\n",
    "        errD_r = loss_func(op1, lbl)\n",
    "        errD_r.backward()\n",
    "        noise = torch.randn(s, 110, 1, 1, device=device)\n",
    "        fdata = netG(noise)\n",
    "        lbl.fill_(flabel)\n",
    "        op2 = netD(fdata.detach()).view(-1)\n",
    "        errD_f = loss_func(op2, lbl)\n",
    "        errD_f.backward()\n",
    "        errD = errD_r + errD_f\n",
    "        optimizerD.step()\n",
    "        netG.zero_grad()\n",
    "        lbl.fill_(rlabel)\n",
    "        op3 = netD(fdata).view(-1)\n",
    "        errG = loss_func(op3, lbl)\n",
    "        errG.backward()\n",
    "        optimizerG.step()\n",
    "\n",
    "        if i % 17 == 0 or ((epoch == e-1) and (i == len(dloader))):\n",
    "            print('[%d/%d][%d/%d]\\tLoss_D: %.4f\\tLoss_G: %.4f\\tD(x): %.4f\\tD(G(z)): %.4f / %.4f' % \n",
    "                  (epoch+1, e, i, len(dloader), errD.item(), errG.item(), op1.mean().item(), op2.mean().item(), op3.mean().item()))\n",
    "\n",
    "        if  (i == len(dloader)) and (epoch == e-1):\n",
    "          noise = torch.randn(64, 110, 1, 1, device=device)\n",
    "          with torch.no_grad():\n",
    "            f = netG(noise).detach().cpu()\n",
    "          final_output = vutils.make_grid(f, padding=2, normalize=True)"
   ]
  },
  {
   "cell_type": "markdown",
   "metadata": {
    "id": "w_OfTcWsnnJO"
   },
   "source": [
    "During training:\n",
    "\n",
    "1 - I run a forward pass with a batch of real data and calculate the gradients in a backward pass. \n",
    "\n",
    "2 - I repeat the process with a batch of fake data that was generated using the current generator, computing the gradient as the total sum of gradients from the fake and real data, and updating the discriminator using the optimizer.\n",
    "\n",
    "3 - I try to maximise the Log of D(G(x)) for the generator rather than minimise the Log of 1 - D(G(x) by running the fictitious data through the discriminator once more and labelling it as real data (D stands for Discriminator and G stands for Generator)\n",
    "\n",
    "4 - I update the generator's loss using that output, calculating the gradients for it\n",
    "\n",
    "5 - then running the optimizer step."
   ]
  },
  {
   "cell_type": "code",
   "execution_count": 926,
   "metadata": {
    "colab": {
     "base_uri": "https://localhost:8080/",
     "height": 125
    },
    "id": "yzNjurfDAj5-",
    "outputId": "f24c7e16-cabe-44e3-def6-b2bfe09edfa8"
   },
   "outputs": [
    {
     "data": {
      "text/plain": [
       "<matplotlib.image.AxesImage at 0x7f757440acd0>"
      ]
     },
     "execution_count": 926,
     "metadata": {},
     "output_type": "execute_result"
    },
    {
     "data": {
      "image/png": "[encoded data removed]",
      "text/plain": [
       "<Figure size 432x288 with 1 Axes>"
      ]
     },
     "metadata": {
      "needs_background": "light"
     },
     "output_type": "display_data"
    }
   ],
   "source": [
    "n = torch.randn(8, 110, 1, 1, device=device)\n",
    "with torch.no_grad():\n",
    "    f = netG(n).detach().cpu()\n",
    "op = vutils.make_grid(f, padding=2, normalize=True)\n",
    "plt.title(\"Images outputted\")\n",
    "plt.imshow(np.transpose(op,(1,2,0)))"
   ]
  },
  {
   "cell_type": "code",
   "execution_count": 944,
   "metadata": {
    "colab": {
     "base_uri": "https://localhost:8080/",
     "height": 131
    },
    "id": "ZCjVrW8mAk8C",
    "outputId": "13b4ffdf-1f1c-4a4d-af0a-3cbab0ac9113"
   },
   "outputs": [
    {
     "data": {
      "text/plain": [
       "<matplotlib.image.AxesImage at 0x7f759631a520>"
      ]
     },
     "execution_count": 944,
     "metadata": {},
     "output_type": "execute_result"
    },
    {
     "data": {
      "image/png": "[encoded data removed]",
      "text/plain": [
       "<Figure size 432x288 with 1 Axes>"
      ]
     },
     "metadata": {
      "needs_background": "light"
     },
     "output_type": "display_data"
    }
   ],
   "source": [
    "n = torch.randn(2, 110, 1, 1).cpu()\n",
    "steps = torch.tensor(np.logspace(n[0],n[1], 7)).to(device)\n",
    "\n",
    "with torch.no_grad():\n",
    "    f = netG(steps).detach().cpu()\n",
    "\n",
    "op = vutils.make_grid(f, padding=2, normalize=True)\n",
    "\n",
    "plt.title(\"Interpolation\")\n",
    "plt.imshow(np.transpose(op.cpu(),(1,2,0)))"
   ]
  },
  {
   "cell_type": "code",
   "execution_count": 945,
   "metadata": {
    "id": "DPOPIkAvrEVU"
   },
   "outputs": [],
   "source": [
    "torch.save(netG.state_dict(), 'G_weights.pkl')\n",
    "torch.save(netD.state_dict(), 'D_weights.pkl')"
   ]
  }
 ],
 "metadata": {
  "accelerator": "GPU",
  "colab": {
   "machine_shape": "hm",
   "provenance": []
  },
  "gpuClass": "standard",
  "kernelspec": {
   "display_name": "Python 3 (ipykernel)",
   "language": "python",
   "name": "python3"
  },
  "language_info": {
   "codemirror_mode": {
    "name": "ipython",
    "version": 3
   },
   "file_extension": ".py",
   "mimetype": "text/x-python",
   "name": "python",
   "nbconvert_exporter": "python",
   "pygments_lexer": "ipython3",
   "version": "3.9.7"
  }
 },
 "nbformat": 4,
 "nbformat_minor": 1
}
